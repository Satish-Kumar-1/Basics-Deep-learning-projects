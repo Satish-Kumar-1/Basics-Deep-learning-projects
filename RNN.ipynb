{
  "nbformat": 4,
  "nbformat_minor": 0,
  "metadata": {
    "colab": {
      "provenance": [],
      "authorship_tag": "ABX9TyMwOcq7Os1flGZvT72TkRYs",
      "include_colab_link": true
    },
    "kernelspec": {
      "name": "python3",
      "display_name": "Python 3"
    },
    "language_info": {
      "name": "python"
    }
  },
  "cells": [
    {
      "cell_type": "markdown",
      "metadata": {
        "id": "view-in-github",
        "colab_type": "text"
      },
      "source": [
        "<a href=\"https://colab.research.google.com/github/Satish-Kumar-1/Basics-Deep-learning-projects/blob/main/RNN.ipynb\" target=\"_parent\"><img src=\"https://colab.research.google.com/assets/colab-badge.svg\" alt=\"Open In Colab\"/></a>"
      ]
    },
    {
      "cell_type": "code",
      "execution_count": 2,
      "metadata": {
        "id": "UnfgUy8XV5qf"
      },
      "outputs": [],
      "source": [
        "import torch\n",
        "import torch.nn as nn\n",
        "import torch.optim as optim"
      ]
    },
    {
      "cell_type": "code",
      "source": [
        "## Defining a  RNN model with embedding\n",
        "class RNN1(nn.Module):\n",
        "    def __init__(self, vocab_size, embedding_dim, hidden_size, output_size):\n",
        "        super (RNN1, self).__init__()\n",
        "        self.hidden_size = hidden_size\n",
        "        self.embedding = nn.Embedding(vocab_size, embedding_dim)\n",
        "        self.rnn = nn.RNN(embedding_dim, hidden_size, batch_first = True)\n",
        "        self.fc = nn.Linear(hidden_size, output_size)\n",
        "\n",
        "    def forward(self, x):\n",
        "        x = self.embedding(x)\n",
        "        h0 = torch.zeros(1, x.size(0), self.hidden_size)\n",
        "        out, _ = self.rnn(x, h0)\n",
        "        out = self.fc(out[:, -1, :])\n",
        "\n",
        "        return out\n",
        "\n"
      ],
      "metadata": {
        "id": "HS3BrUKXWFyr"
      },
      "execution_count": 3,
      "outputs": []
    },
    {
      "cell_type": "code",
      "source": [
        "vocab_size = 10\n",
        "embedding_dim = 4\n",
        "hidden_size = 10\n",
        "output_size = 1\n",
        "\n",
        "\n",
        "model = RNN1(vocab_size, embedding_dim, hidden_size, output_size)\n",
        "\n",
        "criterion = nn.MSELoss()\n",
        "optimizer = optim.Adam(model.parameters(), lr = 0.01)\n",
        "\n",
        "## Sample data\n",
        "inputs = torch.tensor([[1,2,3],[2,3,4]])\n",
        "targets = torch.tensor([[4.0], [5.0]])\n",
        "\n",
        "for epoch in range(100):\n",
        "    model.train()\n",
        "    optimizer.zero_grad()\n",
        "    outputs = model(inputs)\n",
        "    loss = criterion(outputs, targets)\n",
        "    loss.backward()\n",
        "    optimizer.step()\n",
        "\n",
        "    if (epoch + 1) % 10 == 0:\n",
        "        print(f'Epoch [{epoch+1}/100], loss: {loss.item():.4f}')\n",
        "\n",
        "\n",
        "## Test the model\n",
        "model.eval()\n",
        "test_input = torch.tensor([[3, 4, 5]])\n",
        "predicted = model(test_input)\n",
        "print(f'Predicted value: {predicted.detach().numpy()}')\n",
        "\n",
        "\n",
        "\n"
      ],
      "metadata": {
        "colab": {
          "base_uri": "https://localhost:8080/"
        },
        "id": "divnI_0wYZDq",
        "outputId": "ff2349f2-9acc-4086-ecab-2e01d66a9bb5"
      },
      "execution_count": 4,
      "outputs": [
        {
          "output_type": "stream",
          "name": "stdout",
          "text": [
            "Epoch [10/100], loss: 11.0339\n",
            "Epoch [20/100], loss: 2.8800\n",
            "Epoch [30/100], loss: 0.3683\n",
            "Epoch [40/100], loss: 0.3085\n",
            "Epoch [50/100], loss: 0.3486\n",
            "Epoch [60/100], loss: 0.2505\n",
            "Epoch [70/100], loss: 0.2339\n",
            "Epoch [80/100], loss: 0.2285\n",
            "Epoch [90/100], loss: 0.2028\n",
            "Epoch [100/100], loss: 0.1388\n",
            "Predicted value: [[4.0561123]]\n"
          ]
        }
      ]
    },
    {
      "cell_type": "code",
      "source": [
        "# ## Defining a  RNN model with embedding\n",
        "# class RNN2(nn.Module):\n",
        "#     def __init__(self, vocab_size, embedding_dim, hidden_size, output_size):\n",
        "#         super (RNN2, self).__init__()\n",
        "#         self.hidden_size = hidden_size\n",
        "#         self.embedding = nn.Embedding(vocab_size, embedding_dim)\n",
        "#         self.rnn = nn.RNN(embedding_dim, hidden_size, batch_first = True)\n",
        "#         self.fc = nn.Linear(2*hidden_size, output_size)\n",
        "\n",
        "#     def forward(self, x):\n",
        "#         x = self.embedding(x)\n",
        "#         h0 = torch.zeros(1, x.size(0), self.hidden_size)\n",
        "#         out, _ = self.rnn(x, h0)\n",
        "#         out = self.fc(out)\n",
        "\n",
        "#         return out\n",
        "\n"
      ],
      "metadata": {
        "id": "AVeDU9x6cMCa"
      },
      "execution_count": 5,
      "outputs": []
    },
    {
      "cell_type": "code",
      "source": [
        "# vocab_size = 10\n",
        "# embedding_dim = 4\n",
        "# hidden_size = 10\n",
        "# output_size = 1\n",
        "\n",
        "\n",
        "# model = RNN2(vocab_size, embedding_dim, hidden_size, output_size)\n",
        "\n",
        "# criterion = nn.MSELoss()\n",
        "# optimizer = optim.Adam(model.parameters(), lr = 0.01)\n",
        "\n",
        "# ## Sample data\n",
        "# inputs = torch.tensor([[1,2,3],[2,3,4]])\n",
        "# targets = torch.tensor([[[4.0], [5.0], [6.0]], [[5.0], [6.0], [7.0]]])\n",
        "\n",
        "# for epoch in range(100):\n",
        "#     model.train()\n",
        "#     optimizer.zero_grad()\n",
        "#     outputs = model(inputs)\n",
        "#     loss = criterion(outputs, targets)\n",
        "#     loss.backward()\n",
        "#     optimizer.step()\n",
        "\n",
        "#     if (epoch + 1) % 10 == 0:\n",
        "#         print(f'Epoch [{epoch+1}/100], loss: {loss.item():.4f}')\n",
        "\n",
        "\n",
        "# ## Test the model\n",
        "# model.eval()\n",
        "# test_input = torch.tensor([[3, 4, 5]])\n",
        "# predicted = model(test_input)\n",
        "# print(f'Predicted value: {predicted.detach().numpy()}')\n",
        "\n",
        "\n",
        "\n"
      ],
      "metadata": {
        "id": "B-fFU5erdk4h"
      },
      "execution_count": 6,
      "outputs": []
    },
    {
      "cell_type": "code",
      "source": [
        "# # Where we want to get the output at every time step.\n",
        "# class RNN2(nn.Module):\n",
        "#     def __init__(self, vocab_size, embedding_dim, hidden_size, output_size):\n",
        "#         super(RNN2, self).__init__()\n",
        "#         self.hidden_size  = hidden_size\n",
        "#         self.embedding = nn.Embedding(vocab_size, embedding_dim)\n",
        "#         self.rnn = nn.RNN(embedding_dim, hidden_size, batch_first=True)\n",
        "#         self.fc = nn.Linear(2*hidden_size, output_size)\n",
        "\n",
        "#     def forward(self, x):\n",
        "#         x = self.embedding(x)\n",
        "#         h0 = torch.zeros(1, x.size(0), self.hidden_size)\n",
        "#         out, _ = self.rnn(x, h0)\n",
        "#         # Apply the fully connected layer to all time steps\n",
        "#         out = self.fc(out)\n",
        "#         return out\n",
        "\n",
        "# # Parameters\n",
        "# vocab_size = 10  # Size of the vocabulary\n",
        "# embedding_dim = 4  # Dimension of the embedding vectors\n",
        "# hidden_size = 10  # Number of features in the hidden state\n",
        "# output_size = 1  # Number of output classes per timestep\n",
        "\n",
        "# # Create the model\n",
        "# model = RNN2(vocab_size, embedding_dim, hidden_size, output_size)\n",
        "\n",
        "# # Loss and optimizer\n",
        "# criterion = nn.MSELoss()\n",
        "# optimizer = optim.Adam(model.parameters(), lr=0.01)\n",
        "\n",
        "# # Sample data (batch size, sequence length)\n",
        "# inputs = torch.tensor([[1, 2, 3], [2, 3, 4]])\n",
        "# targets = torch.tensor([[[4.0], [5.0], [6.0]], [[5.0], [6.0], [7.0]]])\n",
        "\n",
        "# # Training loop\n",
        "# for epoch in range(100):\n",
        "#     model.train()\n",
        "#     optimizer.zero_grad()\n",
        "#     outputs = model(inputs)\n",
        "#     loss = criterion(outputs, targets)\n",
        "#     loss.backward()\n",
        "#     optimizer.step()\n",
        "\n",
        "#     if (epoch + 1) % 10 == 0:\n",
        "#         print(f'Epoch [{epoch + 1}/100], Loss: {loss.item():.4f}')\n",
        "\n",
        "# # Test the model\n",
        "# model.eval()\n",
        "# test_input = torch.tensor([[3, 4, 5]])\n",
        "# predicted = model(test_input)\n",
        "# print(f'Predicted values: {predicted.detach().numpy()}')\n"
      ],
      "metadata": {
        "id": "7tj-jhzJemHR"
      },
      "execution_count": 7,
      "outputs": []
    },
    {
      "cell_type": "code",
      "source": [
        "class RNN2(nn.Module):\n",
        "    def __init__(self, vocab_size, embedding_dim, hidden_size, output_size):\n",
        "        super(RNN2, self).__init__()\n",
        "        self.hidden_size = hidden_size\n",
        "        self.embedding = nn.Embedding(vocab_size, embedding_dim)\n",
        "        self.rnn = nn.RNN(embedding_dim, hidden_size, batch_first = True)\n",
        "        self.fc = nn.Linear(hidden_size, output_size)\n",
        "\n",
        "    def forward(self,x):\n",
        "        x = self.embedding(x)\n",
        "        h0 = torch.zeros(1, x.size(0), self.hidden_size)\n",
        "        out, _ = self.rnn(x, h0)\n",
        "        out = self.fc(out)\n",
        "        return out\n"
      ],
      "metadata": {
        "id": "nFTNhNlafZ4w"
      },
      "execution_count": 14,
      "outputs": []
    },
    {
      "cell_type": "code",
      "source": [
        "vocab_size = 10\n",
        "embedding_dim = 4\n",
        "hidden_size = 10\n",
        "output_size = 1\n",
        "\n",
        "model = RNN2(vocab_size, embedding_dim, hidden_size, output_size)\n",
        "\n",
        "criterion = nn.MSELoss()\n",
        "optimizer = optim.Adam(model.parameters(), lr = 0.01)\n",
        "\n",
        "inputs = torch.tensor([[1,2,3], [2,3,4]])\n",
        "targets = torch.tensor([[[4.0], [5.0], [6.0]], [[5.0], [6.0], [7.0]]])\n",
        "\n",
        "for epoch in range(100):\n",
        "    model.train()\n",
        "    optimizer.zero_grad()\n",
        "    outputs = model(inputs)\n",
        "    loss = criterion(outputs, targets)\n",
        "    loss.backward()\n",
        "    optimizer.step()\n",
        "\n",
        "    if (epoch + 1) % 10 ==0:\n",
        "        print(f'Epoch [{epoch+1}/100], Loss: {loss.item():.4f}')\n",
        "\n",
        "model.eval()\n",
        "test_input = torch.tensor([[3,4,5]])\n",
        "predicted = model(test_input)\n",
        "print(f'Predicted values: {predicted.detach().numpy()}')"
      ],
      "metadata": {
        "colab": {
          "base_uri": "https://localhost:8080/"
        },
        "id": "-bQIpTO6CjSE",
        "outputId": "969e8c87-6b03-4e38-a574-2ba0c0b29a06"
      },
      "execution_count": 15,
      "outputs": [
        {
          "output_type": "stream",
          "name": "stdout",
          "text": [
            "Epoch [10/100], Loss: 21.3314\n",
            "Epoch [20/100], Loss: 11.5514\n",
            "Epoch [30/100], Loss: 4.9059\n",
            "Epoch [40/100], Loss: 1.5307\n",
            "Epoch [50/100], Loss: 0.4970\n",
            "Epoch [60/100], Loss: 0.3753\n",
            "Epoch [70/100], Loss: 0.3747\n",
            "Epoch [80/100], Loss: 0.3666\n",
            "Epoch [90/100], Loss: 0.3425\n",
            "Epoch [100/100], Loss: 0.3343\n",
            "Predicted values: [[[5.2917333]\n",
            "  [5.963532 ]\n",
            "  [5.820025 ]]]\n"
          ]
        }
      ]
    },
    {
      "cell_type": "code",
      "source": [
        "## Bidirectional RNN\n",
        "\n",
        "input_size = 3\n",
        "hidden_size = 4\n",
        "num_layers = 1\n",
        "batch_size = 2\n",
        "seq_length = 5\n",
        "\n",
        "rnn = nn.RNN(input_size, hidden_size, num_layers = num_layers, bidirectional = True, batch_first = True)\n",
        "\n",
        "input_tensor = torch.randn(batch_size, seq_length, input_size)\n",
        "# print(input_tensor)\n",
        "\n",
        "out, hn = rnn(input_tensor)\n",
        "\n",
        "print(\"Output shape (out):\", out.shape)\n",
        "print(\"Last hidden state shape (hn):\", hn.shape)\n",
        "\n",
        "print('Forward pass output (first half):', out[0,0,:hidden_size])\n",
        "print('Backward pass output (second half):', out[0,0,hidden_size:])\n",
        "\n"
      ],
      "metadata": {
        "colab": {
          "base_uri": "https://localhost:8080/"
        },
        "id": "LydcPgGuFUBj",
        "outputId": "f35fb627-88b4-4434-cdb8-eb3701eb1bc9"
      },
      "execution_count": 17,
      "outputs": [
        {
          "output_type": "stream",
          "name": "stdout",
          "text": [
            "Output shape (out): torch.Size([2, 5, 8])\n",
            "Last hidden state shape (hn): torch.Size([2, 2, 4])\n",
            "Forward pass output (first half): tensor([-0.5901,  0.7267, -0.4608,  0.0175], grad_fn=<SliceBackward0>)\n",
            "Backward pass output (second half): tensor([ 0.8715, -0.3608,  0.7070, -0.9723], grad_fn=<SliceBackward0>)\n"
          ]
        }
      ]
    },
    {
      "cell_type": "code",
      "source": [
        "## Bidirectional RNN\n",
        "\n",
        "input_size = 3\n",
        "hidden_size = 4\n",
        "num_layers = 2\n",
        "batch_size = 1\n",
        "seq_length = 5\n",
        "\n",
        "rnn = nn.RNN(input_size, hidden_size, num_layers = num_layers,\n",
        "             bidirectional = True, batch_first = True)\n",
        "\n",
        "input_tensor = torch.randn(batch_size, seq_length, input_size)\n",
        "# print(input_tensor)\n",
        "\n",
        "out, hn = rnn(input_tensor)\n",
        "\n",
        "print(\"Output shape (out):\", out.shape)\n",
        "print(\"Hidden state shape (hn):\", hn.shape)\n",
        "\n",
        "hn_forward_layer1 = hn[0, :, :]\n",
        "hn_backward_layer1 = hn[1, :, :]\n",
        "hn_forward_layer2 = hn[2, :, :]\n",
        "hn_backward_layer2 = hn[3, :, :]\n",
        "\n",
        "concatenated_layer1 = torch.cat((hn_forward_layer1, hn_backward_layer1), dim = 1)\n",
        "concatenated_layer2 = torch.cat((hn_forward_layer2, hn_backward_layer2), dim = 1)\n",
        "\n",
        "print(\"Concatenated hidden states, layer 1:\", concatenated_layer1.shape)\n",
        "print(\"Concatenated hidden states, layer 2:\", concatenated_layer2.shape)"
      ],
      "metadata": {
        "colab": {
          "base_uri": "https://localhost:8080/"
        },
        "id": "L7HrdaX5N6n8",
        "outputId": "f0da6ace-9499-4d0e-89de-3d2425307fc2"
      },
      "execution_count": 18,
      "outputs": [
        {
          "output_type": "stream",
          "name": "stdout",
          "text": [
            "Output shape (out): torch.Size([1, 5, 8])\n",
            "Hidden state shape (hn): torch.Size([4, 1, 4])\n",
            "Concatenated hidden states, layer 1: torch.Size([1, 8])\n",
            "Concatenated hidden states, layer 2: torch.Size([1, 8])\n"
          ]
        }
      ]
    },
    {
      "cell_type": "code",
      "source": [
        "class DeepBiRNN(nn.Module):\n",
        "    def __init__(self, vocab_size, embedding_dim, hidden_size, output_all_timesteps, output_size,num_):\n",
        "        super(DeepBiRNN, self).__init__()\n",
        "        self.output_all_timesteps = output_all_timesteps\n",
        "        self.embedding = nn.Embedding(vocab_size, embedding_dim)\n",
        "        self.rnn = nn.RNN(embedding_dim, hidden_size, num_layers = num_layers,\n",
        "                          batch_first = True, bidirectional = True)\n",
        "        self.fc = nn.Linear(hidden_size*2, output_size)\n",
        "\n",
        "\n",
        "    def forward(self, x):\n",
        "        x = self.embedding(x)\n",
        "        out, _ = self.rnn(x)\n",
        "\n",
        "        if self.out_all_timesteps:\n",
        "            out = self.fc(out)\n",
        "\n",
        "        else:\n",
        "            out = self.fc(out[:,-1,:])\n",
        "\n",
        "        return out\n",
        "\n",
        "\n"
      ],
      "metadata": {
        "id": "mWiioYOjPPIn"
      },
      "execution_count": 25,
      "outputs": []
    },
    {
      "cell_type": "code",
      "source": [
        "vocab_size = 100\n",
        "embedding_dim = 50\n",
        "hidden_size = 20\n",
        "output_size = 1\n",
        "num_layers = 2\n",
        "\n",
        "model_all_timesteps = DeepBiRNN(vocab_size, embedding_dim, hidden_size, output_size, num_layers, output_all_timesteps = True)\n",
        "\n",
        "model_last_timesteps = DeepBiRNN(vocab_size, embedding_dim, hidden_size, output_size, num_layers, output_all_timesteps = False)\n",
        "\n",
        "input_tensor = torch.tensor([[1,2,3,4], [4,3,2,1]])\n",
        "\n",
        "output_all_timesteps = model_all_timesteps(input_tensor)\n",
        "output_last_timesteps = model_last_timesteps(input_tensor)\n",
        "\n",
        "print(\"Output (All Timesteps):\", output_all_timesteps.shape)  # (batch_size, sequence_length, output_size)\n",
        "print(\"Output (Last Timestep):\", output_last_timesteps.shape)  # (batch_size, output_size)\n"
      ],
      "metadata": {
        "colab": {
          "base_uri": "https://localhost:8080/",
          "height": 211
        },
        "id": "qHEWs7S2Qn99",
        "outputId": "2cf99d67-fb6c-4c84-d9bf-512d27e6372f"
      },
      "execution_count": 27,
      "outputs": [
        {
          "output_type": "error",
          "ename": "TypeError",
          "evalue": "DeepBiRNN.__init__() got multiple values for argument 'output_all_timesteps'",
          "traceback": [
            "\u001b[0;31m---------------------------------------------------------------------------\u001b[0m",
            "\u001b[0;31mTypeError\u001b[0m                                 Traceback (most recent call last)",
            "\u001b[0;32m<ipython-input-27-34d933c5663a>\u001b[0m in \u001b[0;36m<cell line: 7>\u001b[0;34m()\u001b[0m\n\u001b[1;32m      5\u001b[0m \u001b[0mnum_layers\u001b[0m \u001b[0;34m=\u001b[0m \u001b[0;36m2\u001b[0m\u001b[0;34m\u001b[0m\u001b[0;34m\u001b[0m\u001b[0m\n\u001b[1;32m      6\u001b[0m \u001b[0;34m\u001b[0m\u001b[0m\n\u001b[0;32m----> 7\u001b[0;31m \u001b[0mmodel_all_timesteps\u001b[0m \u001b[0;34m=\u001b[0m \u001b[0mDeepBiRNN\u001b[0m\u001b[0;34m(\u001b[0m\u001b[0mvocab_size\u001b[0m\u001b[0;34m,\u001b[0m \u001b[0membedding_dim\u001b[0m\u001b[0;34m,\u001b[0m \u001b[0mhidden_size\u001b[0m\u001b[0;34m,\u001b[0m \u001b[0moutput_size\u001b[0m\u001b[0;34m,\u001b[0m \u001b[0mnum_layers\u001b[0m\u001b[0;34m,\u001b[0m \u001b[0moutput_all_timesteps\u001b[0m \u001b[0;34m=\u001b[0m \u001b[0;32mTrue\u001b[0m\u001b[0;34m)\u001b[0m\u001b[0;34m\u001b[0m\u001b[0;34m\u001b[0m\u001b[0m\n\u001b[0m\u001b[1;32m      8\u001b[0m \u001b[0;34m\u001b[0m\u001b[0m\n\u001b[1;32m      9\u001b[0m \u001b[0mmodel_last_timesteps\u001b[0m \u001b[0;34m=\u001b[0m \u001b[0mDeepBiRNN\u001b[0m\u001b[0;34m(\u001b[0m\u001b[0mvocab_size\u001b[0m\u001b[0;34m,\u001b[0m \u001b[0membedding_dim\u001b[0m\u001b[0;34m,\u001b[0m \u001b[0mhidden_size\u001b[0m\u001b[0;34m,\u001b[0m \u001b[0moutput_size\u001b[0m\u001b[0;34m,\u001b[0m \u001b[0mnum_layers\u001b[0m\u001b[0;34m,\u001b[0m \u001b[0moutput_all_timesteps\u001b[0m \u001b[0;34m=\u001b[0m \u001b[0;32mFalse\u001b[0m\u001b[0;34m)\u001b[0m\u001b[0;34m\u001b[0m\u001b[0;34m\u001b[0m\u001b[0m\n",
            "\u001b[0;31mTypeError\u001b[0m: DeepBiRNN.__init__() got multiple values for argument 'output_all_timesteps'"
          ]
        }
      ]
    },
    {
      "cell_type": "code",
      "source": [],
      "metadata": {
        "id": "g4Nc_QlLT2Ma"
      },
      "execution_count": null,
      "outputs": []
    }
  ]
}